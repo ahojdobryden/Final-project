{
 "cells": [
  {
   "cell_type": "code",
   "execution_count": null,
   "id": "84001fb2",
   "metadata": {},
   "outputs": [],
   "source": [
    "import requests\n",
    "\n",
    "url = \"https://www.bohynekuchyne.cz/category/recepty/\"\n",
    "response = requests.get(url)\n",
    "print(response.text[:1000])  # vypíše prvních 1000 znaků HTML"
   ]
  },
  {
   "cell_type": "code",
   "execution_count": 19,
   "id": "c094d8f3",
   "metadata": {},
   "outputs": [
    {
     "name": "stdout",
     "output_type": "stream",
     "text": [
      "https://www.bohynekuchyne.cz/ryba-na-taliri-treska-s-topinamburovym-pyre/\n",
      "https://www.bohynekuchyne.cz/fazole-v-rajcatove-omacce-s-gulasovym-korenim-a-vejcem/\n",
      "https://www.bohynekuchyne.cz/kremova-houbova-polevka-s-krupavymi-krutony/\n",
      "https://www.bohynekuchyne.cz/vonave-mufiny-ze-zkaramelizovanych-jablicek/\n",
      "https://www.bohynekuchyne.cz/obraceny-svestkovy-kolac-s-karamelem/\n",
      "https://www.bohynekuchyne.cz/chilli-con-carne-jidlo-ktere-vas-zahreje-nejen-na-podzim/\n",
      "https://www.bohynekuchyne.cz/sladkerohliky/\n",
      "https://www.bohynekuchyne.cz/jak-si-pripravit-krupave-skvarky-a-domaci-sadlo/\n",
      "https://www.bohynekuchyne.cz/poctivy-pochoutkovy-salat-podle-tradicniho-receptu/\n",
      "https://www.bohynekuchyne.cz/jablickovy-kolac-z-masloveho-testa-s-vuni-prichazejiciho-podzimu/\n"
     ]
    }
   ],
   "source": [
    "import requests\n",
    "from bs4 import BeautifulSoup\n",
    "\n",
    "url = \"https://www.bohynekuchyne.cz/category/recepty/\"\n",
    "response = requests.get(url)\n",
    "soup = BeautifulSoup(response.text, 'html.parser')\n",
    "\n",
    "for a in soup.select('div.post-media a'):\n",
    "    print(a['href'])\n"
   ]
  },
  {
   "cell_type": "code",
   "execution_count": 20,
   "id": "8a56a334",
   "metadata": {},
   "outputs": [],
   "source": [
    "import requests\n",
    "from bs4 import BeautifulSoup\n",
    "\n",
    "recipe_url = \"https://www.bohynekuchyne.cz/fazole-v-rajcatove-omacce-s-gulasovym-korenim-a-vejcem/\"\n",
    "response = requests.get(recipe_url)\n",
    "soup = BeautifulSoup(response.text, 'html.parser')\n"
   ]
  },
  {
   "cell_type": "code",
   "execution_count": 22,
   "id": "a5af2c2e",
   "metadata": {},
   "outputs": [
    {
     "name": "stdout",
     "output_type": "stream",
     "text": [
      "Název: Hlavní jídla,ReceptyFazole v rajčatové omáčce s gulášovým kořením a vejcem10.1.2025/\n",
      "Ingredience: ['250 g malých bílých\\xa0fazolí', '700 ml rajčatové passaty', '1 velká cibule', '2 stroužky česneku', '3 lžíce směsi koření Guláš Avokádo', 'podle chuti sůl', '200 g zakysané smetany', '4 vejce', 'čerstvá petrželka a pažitka', 'olivový olej']\n",
      "1. Nejprve uvařte fazole do měkka. Sceďte je a nechte stranou.\n",
      "2. Ve velké pánvičce zahřejte trochu olivového oleje. Vsypejte na něj nahrubo nakrájenou cibuli a nasekaný česnek. Opečte pěkně dozlatova. Přidejte vařené fazole, zasypejte gulášovým kořením. Zalijte rajčatovou passatou. Promíchejte a provařte 10 minut. Podle potřeby můžete podlít trochou vody. Chuť dolaďte solí.\n",
      "3. Vmíchejte opatrně zakysanou smetanu.\n",
      "4. Snižte teplotu a velkou lžící udělejte do fazolí důlek. Vyklepněte do něj vejce, osolte a opepřete. Přiklopte poklicí a na nízkou teplotu nechejte vejce ztuhnout.\n",
      "5. Ihned podávejte, zhusta posypané zelenými bylinkami. Ideální příloha je čerstvý chléb.\n"
     ]
    }
   ],
   "source": [
    "# Název\n",
    "name = soup.find('header', class_='post-header').get_text(strip=True)\n",
    "print(\"Název:\", name)\n",
    "\n",
    "# Ingredience\n",
    "ingredients = []\n",
    "for ul in soup.select('.post-content ul'):\n",
    "    for li in ul.find_all('li'):\n",
    "        ingredients.append(li.get_text(strip=True))\n",
    "print(\"Ingredience:\", ingredients)\n",
    "\n",
    "# Postup\n",
    "post_content = soup.find('div', class_='post-content')\n",
    "if post_content:\n",
    "    paragraphs = post_content.find_all('p')\n",
    "    if len(paragraphs) > 1:\n",
    "        postup_p = paragraphs[1]  # druhý <p>\n",
    "        # Rozdělení na kroky podle <br>\n",
    "        steps = [step.strip().replace('\\xa0', ' ') for step in postup_p.get_text(separator='\\n').split('\\n') if step.strip()]\n",
    "        for i, step in enumerate(steps, 1):\n",
    "            print(f\"{i}. {step}\")\n",
    "    else:\n",
    "        print(\"Druhý <p> nebyl nalezen.\")\n",
    "else:\n",
    "    print(\"post-content nebyl nalezen.\")\n"
   ]
  }
 ],
 "metadata": {
  "kernelspec": {
   "display_name": "base",
   "language": "python",
   "name": "python3"
  },
  "language_info": {
   "codemirror_mode": {
    "name": "ipython",
    "version": 3
   },
   "file_extension": ".py",
   "mimetype": "text/x-python",
   "name": "python",
   "nbconvert_exporter": "python",
   "pygments_lexer": "ipython3",
   "version": "3.12.7"
  }
 },
 "nbformat": 4,
 "nbformat_minor": 5
}
